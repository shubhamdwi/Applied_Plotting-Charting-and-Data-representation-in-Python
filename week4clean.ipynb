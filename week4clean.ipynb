{
 "cells": [
  {
   "cell_type": "code",
   "execution_count": 1,
   "metadata": {},
   "outputs": [
    {
     "data": {
      "text/plain": [
       "<Figure size 1500x1000 with 2 Axes>"
      ]
     },
     "metadata": {},
     "output_type": "display_data"
    }
   ],
   "source": [
    "import pandas as pd \n",
    "import numpy as np\n",
    "import matplotlib.pyplot as plt\n",
    "\n",
    "gdpdf = pd.read_csv('Desktop/data_sets/world_bank.csv')\n",
    "\n",
    "gdpdf.columns = gdpdf.iloc[3]\n",
    "gdpdf.drop(gdpdf.iloc[:4].index, inplace =True)\n",
    "gdpdf.reset_index()\n",
    "gdpdf = gdpdf.set_index('Country Code')\n",
    "gdpdf1= gdpdf.dropna()\n",
    "\n",
    "lifedf = pd.read_csv('Desktop/data_sets/life-expectancy.csv')\n",
    "\n",
    "lifedf.reset_index()\n",
    "lifedf.set_index('Code', inplace = True)\n",
    "lifedf.rename(columns={'Entity':'Country'}, inplace = True)\n",
    "lifedf.rename(columns = {'Life expectancy (Clio-Infra up to 1949; UN Population Division for 1950 to 2015) (years)':'Life Expectancy'}, inplace = True)\n",
    "lifedf.drop('Year', axis = 1, inplace = True)\n",
    "lifedf2 = lifedf.groupby('Code').agg({'Life Expectancy': np.average})\n",
    "df = pd.merge(gdpdf1,lifedf2, how = 'inner', left_index = True, right_index = True )\n",
    "df['Code'] = df.index\n",
    "df.drop(df.columns[4:58], axis = 1, inplace = True)\n",
    "df['Life Expectancy'] = df['Life Expectancy'].apply(np.int64)\n",
    "df2 = df.where(df[2015.0] < 1.874592e+11)\n",
    "df2.dropna(inplace = True) \n",
    "plt.style.use('ggplot')\n",
    "df2.plot(x=\"Code\", y= 2015.0, figsize = (15, 10), kind=\"bar\", fontsize = 8)\n",
    "plt.xlabel('Country Code')\n",
    "plt.ylabel('GDP')\n",
    "ax = df2['Life Expectancy'].plot(secondary_y=True, color='k', marker='o')\n",
    "ax.set_ylabel('Average Life Expectancy')\n",
    "plt.title('Life expectancy and GDP comparison')\n",
    "plt.show()"
   ]
  },
  {
   "cell_type": "code",
   "execution_count": null,
   "metadata": {},
   "outputs": [],
   "source": []
  }
 ],
 "metadata": {
  "kernelspec": {
   "display_name": "Python 3",
   "language": "python",
   "name": "python3"
  },
  "language_info": {
   "codemirror_mode": {
    "name": "ipython",
    "version": 3
   },
   "file_extension": ".py",
   "mimetype": "text/x-python",
   "name": "python",
   "nbconvert_exporter": "python",
   "pygments_lexer": "ipython3",
   "version": "3.6.8"
  }
 },
 "nbformat": 4,
 "nbformat_minor": 2
}
